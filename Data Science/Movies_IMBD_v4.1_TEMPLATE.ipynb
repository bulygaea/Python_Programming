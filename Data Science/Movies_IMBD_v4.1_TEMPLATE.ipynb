{
 "cells": [
  {
   "cell_type": "code",
   "execution_count": 1,
   "metadata": {
    "_cell_guid": "b1076dfc-b9ad-4769-8c92-a6c4dae69d19",
    "_uuid": "8f2839f25d086af736a60e9eeb907d3b93b6e0e5",
    "colab": {},
    "colab_type": "code",
    "id": "U2D2gTdJVp90"
   },
   "outputs": [],
   "source": [
    "import numpy as np\n",
    "import pandas as pd\n",
    "import seaborn as sns\n",
    "import matplotlib.pyplot as plt\n",
    "from collections import Counter"
   ]
  },
  {
   "cell_type": "code",
   "execution_count": 2,
   "metadata": {
    "_cell_guid": "79c7e3d0-c299-4dcb-8224-4455121ee9b0",
    "_uuid": "d629ff2d2480ee46fbb7e2d37f6b5fab8052498a",
    "colab": {},
    "colab_type": "code",
    "id": "oyGfxL3eVp9-"
   },
   "outputs": [
    {
     "name": "stdout",
     "output_type": "stream",
     "text": [
      "<class 'pandas.core.frame.DataFrame'>\n",
      "RangeIndex: 1889 entries, 0 to 1888\n",
      "Data columns (total 14 columns):\n",
      " #   Column                Non-Null Count  Dtype  \n",
      "---  ------                --------------  -----  \n",
      " 0   imdb_id               1889 non-null   object \n",
      " 1   budget                1889 non-null   int64  \n",
      " 2   revenue               1889 non-null   int64  \n",
      " 3   original_title        1889 non-null   object \n",
      " 4   cast                  1889 non-null   object \n",
      " 5   director              1889 non-null   object \n",
      " 6   tagline               1889 non-null   object \n",
      " 7   overview              1889 non-null   object \n",
      " 8   runtime               1889 non-null   int64  \n",
      " 9   genres                1889 non-null   object \n",
      " 10  production_companies  1889 non-null   object \n",
      " 11  release_date          1889 non-null   object \n",
      " 12  vote_average          1889 non-null   float64\n",
      " 13  release_year          1889 non-null   int64  \n",
      "dtypes: float64(1), int64(4), object(9)\n",
      "memory usage: 206.7+ KB\n"
     ]
    },
    {
     "data": {
      "text/html": [
       "<div>\n",
       "<style scoped>\n",
       "    .dataframe tbody tr th:only-of-type {\n",
       "        vertical-align: middle;\n",
       "    }\n",
       "\n",
       "    .dataframe tbody tr th {\n",
       "        vertical-align: top;\n",
       "    }\n",
       "\n",
       "    .dataframe thead th {\n",
       "        text-align: right;\n",
       "    }\n",
       "</style>\n",
       "<table border=\"1\" class=\"dataframe\">\n",
       "  <thead>\n",
       "    <tr style=\"text-align: right;\">\n",
       "      <th></th>\n",
       "      <th>imdb_id</th>\n",
       "      <th>budget</th>\n",
       "      <th>revenue</th>\n",
       "      <th>original_title</th>\n",
       "      <th>cast</th>\n",
       "      <th>director</th>\n",
       "      <th>tagline</th>\n",
       "      <th>overview</th>\n",
       "      <th>runtime</th>\n",
       "      <th>genres</th>\n",
       "      <th>production_companies</th>\n",
       "      <th>release_date</th>\n",
       "      <th>vote_average</th>\n",
       "      <th>release_year</th>\n",
       "    </tr>\n",
       "  </thead>\n",
       "  <tbody>\n",
       "    <tr>\n",
       "      <th>951</th>\n",
       "      <td>tt0157472</td>\n",
       "      <td>26000000</td>\n",
       "      <td>38793283</td>\n",
       "      <td>Clockstoppers</td>\n",
       "      <td>Jesse Bradford|Paula GarcÃ©s|Robin Thomas|Fren...</td>\n",
       "      <td>Jonathan Frakes</td>\n",
       "      <td>The adventure of a lifetime, in a few mere sec...</td>\n",
       "      <td>Until now, Zak Gibbs' greatest challenge has b...</td>\n",
       "      <td>94</td>\n",
       "      <td>Adventure|Family|Science Fiction|Thriller</td>\n",
       "      <td>Paramount Pictures|Nickelodeon Movies|Valhalla...</td>\n",
       "      <td>3/17/2002</td>\n",
       "      <td>4.5</td>\n",
       "      <td>2002</td>\n",
       "    </tr>\n",
       "    <tr>\n",
       "      <th>1766</th>\n",
       "      <td>tt0498399</td>\n",
       "      <td>21000000</td>\n",
       "      <td>54926886</td>\n",
       "      <td>We Own the Night</td>\n",
       "      <td>Joaquin Phoenix|Eva Mendes|Alex Veadov|Mark Wa...</td>\n",
       "      <td>James Gray</td>\n",
       "      <td>Two brothers on opposite sides of the law. Bey...</td>\n",
       "      <td>A New York nightclub manager tries to save his...</td>\n",
       "      <td>117</td>\n",
       "      <td>Drama|Crime|Thriller</td>\n",
       "      <td>Columbia Pictures|Industry Entertainment|2929 ...</td>\n",
       "      <td>5/25/2007</td>\n",
       "      <td>6.4</td>\n",
       "      <td>2007</td>\n",
       "    </tr>\n",
       "    <tr>\n",
       "      <th>677</th>\n",
       "      <td>tt0482606</td>\n",
       "      <td>9000000</td>\n",
       "      <td>82391145</td>\n",
       "      <td>The Strangers</td>\n",
       "      <td>Liv Tyler|Scott Speedman|Alex Fisher|Peter Cla...</td>\n",
       "      <td>Bryan Bertino</td>\n",
       "      <td>Lock the door. Pretend you're safe.</td>\n",
       "      <td>After returning from a wedding reception, a co...</td>\n",
       "      <td>90</td>\n",
       "      <td>Thriller|Horror|Mystery</td>\n",
       "      <td>Rogue Pictures|Vertigo Entertainment</td>\n",
       "      <td>5/29/2008</td>\n",
       "      <td>5.9</td>\n",
       "      <td>2008</td>\n",
       "    </tr>\n",
       "    <tr>\n",
       "      <th>1059</th>\n",
       "      <td>tt0763831</td>\n",
       "      <td>40000000</td>\n",
       "      <td>22044277</td>\n",
       "      <td>A Thousand Words</td>\n",
       "      <td>Eddie Murphy|Allison Janney|Cliff Curtis|Clark...</td>\n",
       "      <td>Brian Robbins</td>\n",
       "      <td>He only has 1000 words left to discover what m...</td>\n",
       "      <td>Jack McCall is a fast-talking literary agent, ...</td>\n",
       "      <td>91</td>\n",
       "      <td>Drama|Comedy</td>\n",
       "      <td>Paramount Pictures|DreamWorks SKG|Saturn Films...</td>\n",
       "      <td>3/7/2012</td>\n",
       "      <td>5.8</td>\n",
       "      <td>2012</td>\n",
       "    </tr>\n",
       "    <tr>\n",
       "      <th>907</th>\n",
       "      <td>tt0160184</td>\n",
       "      <td>55000000</td>\n",
       "      <td>6416302</td>\n",
       "      <td>D-Tox</td>\n",
       "      <td>Sylvester Stallone|Courtney B. Vance|Tom Beren...</td>\n",
       "      <td>Jim Gillespie</td>\n",
       "      <td>Survival is a Killer.</td>\n",
       "      <td>A disgraced FBI agent with a drinking problem ...</td>\n",
       "      <td>96</td>\n",
       "      <td>Action|Thriller</td>\n",
       "      <td>Universal Pictures</td>\n",
       "      <td>1/4/2002</td>\n",
       "      <td>5.8</td>\n",
       "      <td>2002</td>\n",
       "    </tr>\n",
       "  </tbody>\n",
       "</table>\n",
       "</div>"
      ],
      "text/plain": [
       "        imdb_id    budget   revenue    original_title  \\\n",
       "951   tt0157472  26000000  38793283     Clockstoppers   \n",
       "1766  tt0498399  21000000  54926886  We Own the Night   \n",
       "677   tt0482606   9000000  82391145     The Strangers   \n",
       "1059  tt0763831  40000000  22044277  A Thousand Words   \n",
       "907   tt0160184  55000000   6416302             D-Tox   \n",
       "\n",
       "                                                   cast         director  \\\n",
       "951   Jesse Bradford|Paula GarcÃ©s|Robin Thomas|Fren...  Jonathan Frakes   \n",
       "1766  Joaquin Phoenix|Eva Mendes|Alex Veadov|Mark Wa...       James Gray   \n",
       "677   Liv Tyler|Scott Speedman|Alex Fisher|Peter Cla...    Bryan Bertino   \n",
       "1059  Eddie Murphy|Allison Janney|Cliff Curtis|Clark...    Brian Robbins   \n",
       "907   Sylvester Stallone|Courtney B. Vance|Tom Beren...    Jim Gillespie   \n",
       "\n",
       "                                                tagline  \\\n",
       "951   The adventure of a lifetime, in a few mere sec...   \n",
       "1766  Two brothers on opposite sides of the law. Bey...   \n",
       "677                 Lock the door. Pretend you're safe.   \n",
       "1059  He only has 1000 words left to discover what m...   \n",
       "907                               Survival is a Killer.   \n",
       "\n",
       "                                               overview  runtime  \\\n",
       "951   Until now, Zak Gibbs' greatest challenge has b...       94   \n",
       "1766  A New York nightclub manager tries to save his...      117   \n",
       "677   After returning from a wedding reception, a co...       90   \n",
       "1059  Jack McCall is a fast-talking literary agent, ...       91   \n",
       "907   A disgraced FBI agent with a drinking problem ...       96   \n",
       "\n",
       "                                         genres  \\\n",
       "951   Adventure|Family|Science Fiction|Thriller   \n",
       "1766                       Drama|Crime|Thriller   \n",
       "677                     Thriller|Horror|Mystery   \n",
       "1059                               Drama|Comedy   \n",
       "907                             Action|Thriller   \n",
       "\n",
       "                                   production_companies release_date  \\\n",
       "951   Paramount Pictures|Nickelodeon Movies|Valhalla...    3/17/2002   \n",
       "1766  Columbia Pictures|Industry Entertainment|2929 ...    5/25/2007   \n",
       "677                Rogue Pictures|Vertigo Entertainment    5/29/2008   \n",
       "1059  Paramount Pictures|DreamWorks SKG|Saturn Films...     3/7/2012   \n",
       "907                                  Universal Pictures     1/4/2002   \n",
       "\n",
       "      vote_average  release_year  \n",
       "951            4.5          2002  \n",
       "1766           6.4          2007  \n",
       "677            5.9          2008  \n",
       "1059           5.8          2012  \n",
       "907            5.8          2002  "
      ]
     },
     "execution_count": 2,
     "metadata": {},
     "output_type": "execute_result"
    }
   ],
   "source": [
    "data = pd.read_csv('movie_bd_v5.xls')\n",
    "data.info()\n",
    "data.sample(5)"
   ]
  },
  {
   "cell_type": "code",
   "execution_count": 3,
   "metadata": {
    "colab": {},
    "colab_type": "code",
    "id": "CoYUnagMVp-C"
   },
   "outputs": [
    {
     "data": {
      "text/html": [
       "<div>\n",
       "<style scoped>\n",
       "    .dataframe tbody tr th:only-of-type {\n",
       "        vertical-align: middle;\n",
       "    }\n",
       "\n",
       "    .dataframe tbody tr th {\n",
       "        vertical-align: top;\n",
       "    }\n",
       "\n",
       "    .dataframe thead th {\n",
       "        text-align: right;\n",
       "    }\n",
       "</style>\n",
       "<table border=\"1\" class=\"dataframe\">\n",
       "  <thead>\n",
       "    <tr style=\"text-align: right;\">\n",
       "      <th></th>\n",
       "      <th>budget</th>\n",
       "      <th>revenue</th>\n",
       "      <th>runtime</th>\n",
       "      <th>vote_average</th>\n",
       "      <th>release_year</th>\n",
       "    </tr>\n",
       "  </thead>\n",
       "  <tbody>\n",
       "    <tr>\n",
       "      <th>count</th>\n",
       "      <td>1.889000e+03</td>\n",
       "      <td>1.889000e+03</td>\n",
       "      <td>1889.000000</td>\n",
       "      <td>1889.000000</td>\n",
       "      <td>1889.000000</td>\n",
       "    </tr>\n",
       "    <tr>\n",
       "      <th>mean</th>\n",
       "      <td>5.431083e+07</td>\n",
       "      <td>1.553653e+08</td>\n",
       "      <td>109.658549</td>\n",
       "      <td>6.140762</td>\n",
       "      <td>2007.860773</td>\n",
       "    </tr>\n",
       "    <tr>\n",
       "      <th>std</th>\n",
       "      <td>4.858721e+07</td>\n",
       "      <td>2.146698e+08</td>\n",
       "      <td>18.017041</td>\n",
       "      <td>0.764763</td>\n",
       "      <td>4.468841</td>\n",
       "    </tr>\n",
       "    <tr>\n",
       "      <th>min</th>\n",
       "      <td>5.000000e+06</td>\n",
       "      <td>2.033165e+06</td>\n",
       "      <td>63.000000</td>\n",
       "      <td>3.300000</td>\n",
       "      <td>2000.000000</td>\n",
       "    </tr>\n",
       "    <tr>\n",
       "      <th>25%</th>\n",
       "      <td>2.000000e+07</td>\n",
       "      <td>3.456058e+07</td>\n",
       "      <td>97.000000</td>\n",
       "      <td>5.600000</td>\n",
       "      <td>2004.000000</td>\n",
       "    </tr>\n",
       "    <tr>\n",
       "      <th>50%</th>\n",
       "      <td>3.800000e+07</td>\n",
       "      <td>8.361541e+07</td>\n",
       "      <td>107.000000</td>\n",
       "      <td>6.100000</td>\n",
       "      <td>2008.000000</td>\n",
       "    </tr>\n",
       "    <tr>\n",
       "      <th>75%</th>\n",
       "      <td>7.200000e+07</td>\n",
       "      <td>1.782626e+08</td>\n",
       "      <td>120.000000</td>\n",
       "      <td>6.600000</td>\n",
       "      <td>2012.000000</td>\n",
       "    </tr>\n",
       "    <tr>\n",
       "      <th>max</th>\n",
       "      <td>3.800000e+08</td>\n",
       "      <td>2.781506e+09</td>\n",
       "      <td>214.000000</td>\n",
       "      <td>8.100000</td>\n",
       "      <td>2015.000000</td>\n",
       "    </tr>\n",
       "  </tbody>\n",
       "</table>\n",
       "</div>"
      ],
      "text/plain": [
       "             budget       revenue      runtime  vote_average  release_year\n",
       "count  1.889000e+03  1.889000e+03  1889.000000   1889.000000   1889.000000\n",
       "mean   5.431083e+07  1.553653e+08   109.658549      6.140762   2007.860773\n",
       "std    4.858721e+07  2.146698e+08    18.017041      0.764763      4.468841\n",
       "min    5.000000e+06  2.033165e+06    63.000000      3.300000   2000.000000\n",
       "25%    2.000000e+07  3.456058e+07    97.000000      5.600000   2004.000000\n",
       "50%    3.800000e+07  8.361541e+07   107.000000      6.100000   2008.000000\n",
       "75%    7.200000e+07  1.782626e+08   120.000000      6.600000   2012.000000\n",
       "max    3.800000e+08  2.781506e+09   214.000000      8.100000   2015.000000"
      ]
     },
     "execution_count": 3,
     "metadata": {},
     "output_type": "execute_result"
    }
   ],
   "source": [
    "data.describe()"
   ]
  },
  {
   "cell_type": "markdown",
   "metadata": {
    "colab_type": "text",
    "id": "DTIt7ezGVp-G"
   },
   "source": [
    "# Предобработка"
   ]
  },
  {
   "cell_type": "code",
   "execution_count": 4,
   "metadata": {
    "colab": {},
    "colab_type": "code",
    "id": "jNb40DwKVp-H"
   },
   "outputs": [],
   "source": [
    "answers = {} # создадим словарь для ответов\n",
    "\n",
    "# Добавим столбец profit к имеющемуся DataFrame\n",
    "profit = pd.DataFrame(list(list(data.revenue - data.budget)), columns=['profit'])\n",
    "data = pd.concat([data, profit], axis=1)\n"
   ]
  },
  {
   "cell_type": "code",
   "execution_count": 5,
   "metadata": {},
   "outputs": [],
   "source": [
    "# Переведем release_time из строкового типа в time.struct_time\n",
    "import time\n",
    "\n",
    "dt = pd.DataFrame()\n",
    "for i in list(data.release_date):\n",
    "    old_str = i.split('/')\n",
    "    if 1 <= int(old_str[0]) <= 9:\n",
    "        new_str = '0' + old_str[0] + '/'\n",
    "    else:\n",
    "        new_str = old_str[0] + '/'\n",
    "    if 1 <= int(old_str[1]) <= 9:\n",
    "        new_str += '0' + old_str[1] + '/'\n",
    "    else:\n",
    "        new_str += old_str[1] + '/'\n",
    "    new_str += old_str[2][2:]\n",
    "    dt = dt.append({'release_date': time.strptime(new_str, \"%m/%d/%y\")[:3]}, ignore_index=True)\n",
    "\n",
    "data = data.drop(columns='release_date')\n",
    "data = pd.concat([data, dt], axis=1)\n"
   ]
  },
  {
   "cell_type": "code",
   "execution_count": 6,
   "metadata": {},
   "outputs": [
    {
     "data": {
      "text/html": [
       "<div>\n",
       "<style scoped>\n",
       "    .dataframe tbody tr th:only-of-type {\n",
       "        vertical-align: middle;\n",
       "    }\n",
       "\n",
       "    .dataframe tbody tr th {\n",
       "        vertical-align: top;\n",
       "    }\n",
       "\n",
       "    .dataframe thead th {\n",
       "        text-align: right;\n",
       "    }\n",
       "</style>\n",
       "<table border=\"1\" class=\"dataframe\">\n",
       "  <thead>\n",
       "    <tr style=\"text-align: right;\">\n",
       "      <th></th>\n",
       "      <th>imdb_id</th>\n",
       "      <th>budget</th>\n",
       "      <th>revenue</th>\n",
       "      <th>original_title</th>\n",
       "      <th>cast</th>\n",
       "      <th>director</th>\n",
       "      <th>tagline</th>\n",
       "      <th>overview</th>\n",
       "      <th>runtime</th>\n",
       "      <th>production_companies</th>\n",
       "      <th>...</th>\n",
       "      <th>Animation</th>\n",
       "      <th>Comedy</th>\n",
       "      <th>Mystery</th>\n",
       "      <th>Romance</th>\n",
       "      <th>War</th>\n",
       "      <th>History</th>\n",
       "      <th>Music</th>\n",
       "      <th>Horror</th>\n",
       "      <th>Documentary</th>\n",
       "      <th>Foreign</th>\n",
       "    </tr>\n",
       "  </thead>\n",
       "  <tbody>\n",
       "    <tr>\n",
       "      <th>1302</th>\n",
       "      <td>tt0884726</td>\n",
       "      <td>70000000</td>\n",
       "      <td>18662027</td>\n",
       "      <td>Legends of Oz: Dorothy's Return</td>\n",
       "      <td>Lea Michele|Dan Aykroyd|Patrick Stewart|Hugh D...</td>\n",
       "      <td>Dan St. Pierre</td>\n",
       "      <td>There's trouble in OZ...</td>\n",
       "      <td>Dorothy wakes up in post-tornado Kansas, only ...</td>\n",
       "      <td>88</td>\n",
       "      <td>Prana Animation Studios|Summertime Entertainment</td>\n",
       "      <td>...</td>\n",
       "      <td>1.0</td>\n",
       "      <td>0.0</td>\n",
       "      <td>0.0</td>\n",
       "      <td>0.0</td>\n",
       "      <td>0.0</td>\n",
       "      <td>0.0</td>\n",
       "      <td>1.0</td>\n",
       "      <td>0.0</td>\n",
       "      <td>0.0</td>\n",
       "      <td>0.0</td>\n",
       "    </tr>\n",
       "    <tr>\n",
       "      <th>1844</th>\n",
       "      <td>tt0190138</td>\n",
       "      <td>41300000</td>\n",
       "      <td>106371651</td>\n",
       "      <td>The Whole Nine Yards</td>\n",
       "      <td>Bruce Willis|Matthew Perry|Rosanna Arquette|Mi...</td>\n",
       "      <td>Jonathan Lynn</td>\n",
       "      <td>In the heart of suburbia, a hit man with heart...</td>\n",
       "      <td>A mobster named Jimmy the Tulip agrees to coop...</td>\n",
       "      <td>98</td>\n",
       "      <td>Franchise Pictures|Warner Bros.|Morgan Creek P...</td>\n",
       "      <td>...</td>\n",
       "      <td>0.0</td>\n",
       "      <td>1.0</td>\n",
       "      <td>0.0</td>\n",
       "      <td>0.0</td>\n",
       "      <td>0.0</td>\n",
       "      <td>0.0</td>\n",
       "      <td>0.0</td>\n",
       "      <td>0.0</td>\n",
       "      <td>0.0</td>\n",
       "      <td>0.0</td>\n",
       "    </tr>\n",
       "    <tr>\n",
       "      <th>75</th>\n",
       "      <td>tt4178092</td>\n",
       "      <td>5000000</td>\n",
       "      <td>58978653</td>\n",
       "      <td>The Gift</td>\n",
       "      <td>Jason Bateman|Rebecca Hall|Joel Edgerton|David...</td>\n",
       "      <td>Joel Edgerton</td>\n",
       "      <td>Not every gift is welcome.</td>\n",
       "      <td>A husband and wife try to reinvigorate their r...</td>\n",
       "      <td>108</td>\n",
       "      <td>Blumhouse Productions|Blue-Tongue Films|STX En...</td>\n",
       "      <td>...</td>\n",
       "      <td>0.0</td>\n",
       "      <td>0.0</td>\n",
       "      <td>1.0</td>\n",
       "      <td>0.0</td>\n",
       "      <td>0.0</td>\n",
       "      <td>0.0</td>\n",
       "      <td>0.0</td>\n",
       "      <td>0.0</td>\n",
       "      <td>0.0</td>\n",
       "      <td>0.0</td>\n",
       "    </tr>\n",
       "    <tr>\n",
       "      <th>565</th>\n",
       "      <td>tt0236784</td>\n",
       "      <td>21000000</td>\n",
       "      <td>28008462</td>\n",
       "      <td>The Tailor of Panama</td>\n",
       "      <td>Pierce Brosnan|Geoffrey Rush|Jamie Lee Curtis|...</td>\n",
       "      <td>John Boorman</td>\n",
       "      <td>In a place this treacherous, what a good spy n...</td>\n",
       "      <td>A British spy is banished to Panama after havi...</td>\n",
       "      <td>109</td>\n",
       "      <td>Columbia Pictures|Merlin Films</td>\n",
       "      <td>...</td>\n",
       "      <td>0.0</td>\n",
       "      <td>0.0</td>\n",
       "      <td>0.0</td>\n",
       "      <td>0.0</td>\n",
       "      <td>0.0</td>\n",
       "      <td>0.0</td>\n",
       "      <td>0.0</td>\n",
       "      <td>0.0</td>\n",
       "      <td>0.0</td>\n",
       "      <td>0.0</td>\n",
       "    </tr>\n",
       "    <tr>\n",
       "      <th>616</th>\n",
       "      <td>tt0493464</td>\n",
       "      <td>75000000</td>\n",
       "      <td>258270008</td>\n",
       "      <td>Wanted</td>\n",
       "      <td>Angelina Jolie|James McAvoy|Morgan Freeman|Tho...</td>\n",
       "      <td>Timur Bekmambetov</td>\n",
       "      <td>Choose your destiny.</td>\n",
       "      <td>Doormat Wesley Gibson discovers that his recen...</td>\n",
       "      <td>110</td>\n",
       "      <td>Universal Pictures|Spyglass Entertainment|Baze...</td>\n",
       "      <td>...</td>\n",
       "      <td>0.0</td>\n",
       "      <td>0.0</td>\n",
       "      <td>0.0</td>\n",
       "      <td>0.0</td>\n",
       "      <td>0.0</td>\n",
       "      <td>0.0</td>\n",
       "      <td>0.0</td>\n",
       "      <td>0.0</td>\n",
       "      <td>0.0</td>\n",
       "      <td>0.0</td>\n",
       "    </tr>\n",
       "  </tbody>\n",
       "</table>\n",
       "<p>5 rows × 33 columns</p>\n",
       "</div>"
      ],
      "text/plain": [
       "        imdb_id    budget    revenue                   original_title  \\\n",
       "1302  tt0884726  70000000   18662027  Legends of Oz: Dorothy's Return   \n",
       "1844  tt0190138  41300000  106371651             The Whole Nine Yards   \n",
       "75    tt4178092   5000000   58978653                         The Gift   \n",
       "565   tt0236784  21000000   28008462             The Tailor of Panama   \n",
       "616   tt0493464  75000000  258270008                           Wanted   \n",
       "\n",
       "                                                   cast           director  \\\n",
       "1302  Lea Michele|Dan Aykroyd|Patrick Stewart|Hugh D...     Dan St. Pierre   \n",
       "1844  Bruce Willis|Matthew Perry|Rosanna Arquette|Mi...      Jonathan Lynn   \n",
       "75    Jason Bateman|Rebecca Hall|Joel Edgerton|David...      Joel Edgerton   \n",
       "565   Pierce Brosnan|Geoffrey Rush|Jamie Lee Curtis|...       John Boorman   \n",
       "616   Angelina Jolie|James McAvoy|Morgan Freeman|Tho...  Timur Bekmambetov   \n",
       "\n",
       "                                                tagline  \\\n",
       "1302                           There's trouble in OZ...   \n",
       "1844  In the heart of suburbia, a hit man with heart...   \n",
       "75                           Not every gift is welcome.   \n",
       "565   In a place this treacherous, what a good spy n...   \n",
       "616                                Choose your destiny.   \n",
       "\n",
       "                                               overview  runtime  \\\n",
       "1302  Dorothy wakes up in post-tornado Kansas, only ...       88   \n",
       "1844  A mobster named Jimmy the Tulip agrees to coop...       98   \n",
       "75    A husband and wife try to reinvigorate their r...      108   \n",
       "565   A British spy is banished to Panama after havi...      109   \n",
       "616   Doormat Wesley Gibson discovers that his recen...      110   \n",
       "\n",
       "                                   production_companies  ...  Animation  \\\n",
       "1302   Prana Animation Studios|Summertime Entertainment  ...        1.0   \n",
       "1844  Franchise Pictures|Warner Bros.|Morgan Creek P...  ...        0.0   \n",
       "75    Blumhouse Productions|Blue-Tongue Films|STX En...  ...        0.0   \n",
       "565                      Columbia Pictures|Merlin Films  ...        0.0   \n",
       "616   Universal Pictures|Spyglass Entertainment|Baze...  ...        0.0   \n",
       "\n",
       "      Comedy  Mystery Romance  War  History  Music  Horror  Documentary  \\\n",
       "1302     0.0      0.0     0.0  0.0      0.0    1.0     0.0          0.0   \n",
       "1844     1.0      0.0     0.0  0.0      0.0    0.0     0.0          0.0   \n",
       "75       0.0      1.0     0.0  0.0      0.0    0.0     0.0          0.0   \n",
       "565      0.0      0.0     0.0  0.0      0.0    0.0     0.0          0.0   \n",
       "616      0.0      0.0     0.0  0.0      0.0    0.0     0.0          0.0   \n",
       "\n",
       "      Foreign  \n",
       "1302      0.0  \n",
       "1844      0.0  \n",
       "75        0.0  \n",
       "565       0.0  \n",
       "616       0.0  \n",
       "\n",
       "[5 rows x 33 columns]"
      ]
     },
     "metadata": {},
     "output_type": "display_data"
    },
    {
     "data": {
      "text/html": [
       "<div>\n",
       "<style scoped>\n",
       "    .dataframe tbody tr th:only-of-type {\n",
       "        vertical-align: middle;\n",
       "    }\n",
       "\n",
       "    .dataframe tbody tr th {\n",
       "        vertical-align: top;\n",
       "    }\n",
       "\n",
       "    .dataframe thead th {\n",
       "        text-align: right;\n",
       "    }\n",
       "</style>\n",
       "<table border=\"1\" class=\"dataframe\">\n",
       "  <thead>\n",
       "    <tr style=\"text-align: right;\">\n",
       "      <th></th>\n",
       "      <th>Action</th>\n",
       "      <th>Adventure</th>\n",
       "      <th>Science Fiction</th>\n",
       "      <th>Thriller</th>\n",
       "      <th>Fantasy</th>\n",
       "      <th>Crime</th>\n",
       "      <th>Western</th>\n",
       "      <th>Drama</th>\n",
       "      <th>Family</th>\n",
       "      <th>Animation</th>\n",
       "      <th>Comedy</th>\n",
       "      <th>Mystery</th>\n",
       "      <th>Romance</th>\n",
       "      <th>War</th>\n",
       "      <th>History</th>\n",
       "      <th>Music</th>\n",
       "      <th>Horror</th>\n",
       "      <th>Documentary</th>\n",
       "      <th>Foreign</th>\n",
       "    </tr>\n",
       "  </thead>\n",
       "  <tbody>\n",
       "    <tr>\n",
       "      <th>1200</th>\n",
       "      <td>1.0</td>\n",
       "      <td>1.0</td>\n",
       "      <td>1.0</td>\n",
       "      <td>0.0</td>\n",
       "      <td>0.0</td>\n",
       "      <td>0.0</td>\n",
       "      <td>0.0</td>\n",
       "      <td>0.0</td>\n",
       "      <td>0.0</td>\n",
       "      <td>0.0</td>\n",
       "      <td>0.0</td>\n",
       "      <td>0.0</td>\n",
       "      <td>0.0</td>\n",
       "      <td>0.0</td>\n",
       "      <td>0.0</td>\n",
       "      <td>0.0</td>\n",
       "      <td>0.0</td>\n",
       "      <td>0.0</td>\n",
       "      <td>0.0</td>\n",
       "    </tr>\n",
       "    <tr>\n",
       "      <th>745</th>\n",
       "      <td>1.0</td>\n",
       "      <td>1.0</td>\n",
       "      <td>0.0</td>\n",
       "      <td>0.0</td>\n",
       "      <td>0.0</td>\n",
       "      <td>0.0</td>\n",
       "      <td>0.0</td>\n",
       "      <td>0.0</td>\n",
       "      <td>1.0</td>\n",
       "      <td>1.0</td>\n",
       "      <td>0.0</td>\n",
       "      <td>1.0</td>\n",
       "      <td>0.0</td>\n",
       "      <td>0.0</td>\n",
       "      <td>0.0</td>\n",
       "      <td>0.0</td>\n",
       "      <td>0.0</td>\n",
       "      <td>0.0</td>\n",
       "      <td>0.0</td>\n",
       "    </tr>\n",
       "    <tr>\n",
       "      <th>1303</th>\n",
       "      <td>0.0</td>\n",
       "      <td>0.0</td>\n",
       "      <td>0.0</td>\n",
       "      <td>1.0</td>\n",
       "      <td>0.0</td>\n",
       "      <td>0.0</td>\n",
       "      <td>0.0</td>\n",
       "      <td>1.0</td>\n",
       "      <td>0.0</td>\n",
       "      <td>0.0</td>\n",
       "      <td>0.0</td>\n",
       "      <td>0.0</td>\n",
       "      <td>0.0</td>\n",
       "      <td>0.0</td>\n",
       "      <td>0.0</td>\n",
       "      <td>0.0</td>\n",
       "      <td>0.0</td>\n",
       "      <td>0.0</td>\n",
       "      <td>0.0</td>\n",
       "    </tr>\n",
       "    <tr>\n",
       "      <th>421</th>\n",
       "      <td>1.0</td>\n",
       "      <td>1.0</td>\n",
       "      <td>0.0</td>\n",
       "      <td>1.0</td>\n",
       "      <td>0.0</td>\n",
       "      <td>0.0</td>\n",
       "      <td>0.0</td>\n",
       "      <td>1.0</td>\n",
       "      <td>0.0</td>\n",
       "      <td>0.0</td>\n",
       "      <td>0.0</td>\n",
       "      <td>0.0</td>\n",
       "      <td>0.0</td>\n",
       "      <td>0.0</td>\n",
       "      <td>0.0</td>\n",
       "      <td>0.0</td>\n",
       "      <td>0.0</td>\n",
       "      <td>0.0</td>\n",
       "      <td>0.0</td>\n",
       "    </tr>\n",
       "    <tr>\n",
       "      <th>64</th>\n",
       "      <td>0.0</td>\n",
       "      <td>1.0</td>\n",
       "      <td>0.0</td>\n",
       "      <td>0.0</td>\n",
       "      <td>1.0</td>\n",
       "      <td>0.0</td>\n",
       "      <td>0.0</td>\n",
       "      <td>0.0</td>\n",
       "      <td>1.0</td>\n",
       "      <td>0.0</td>\n",
       "      <td>0.0</td>\n",
       "      <td>0.0</td>\n",
       "      <td>0.0</td>\n",
       "      <td>0.0</td>\n",
       "      <td>0.0</td>\n",
       "      <td>0.0</td>\n",
       "      <td>0.0</td>\n",
       "      <td>0.0</td>\n",
       "      <td>0.0</td>\n",
       "    </tr>\n",
       "  </tbody>\n",
       "</table>\n",
       "</div>"
      ],
      "text/plain": [
       "      Action  Adventure  Science Fiction  Thriller  Fantasy  Crime  Western  \\\n",
       "1200     1.0        1.0              1.0       0.0      0.0    0.0      0.0   \n",
       "745      1.0        1.0              0.0       0.0      0.0    0.0      0.0   \n",
       "1303     0.0        0.0              0.0       1.0      0.0    0.0      0.0   \n",
       "421      1.0        1.0              0.0       1.0      0.0    0.0      0.0   \n",
       "64       0.0        1.0              0.0       0.0      1.0    0.0      0.0   \n",
       "\n",
       "      Drama  Family  Animation  Comedy  Mystery  Romance  War  History  Music  \\\n",
       "1200    0.0     0.0        0.0     0.0      0.0      0.0  0.0      0.0    0.0   \n",
       "745     0.0     1.0        1.0     0.0      1.0      0.0  0.0      0.0    0.0   \n",
       "1303    1.0     0.0        0.0     0.0      0.0      0.0  0.0      0.0    0.0   \n",
       "421     1.0     0.0        0.0     0.0      0.0      0.0  0.0      0.0    0.0   \n",
       "64      0.0     1.0        0.0     0.0      0.0      0.0  0.0      0.0    0.0   \n",
       "\n",
       "      Horror  Documentary  Foreign  \n",
       "1200     0.0          0.0      0.0  \n",
       "745      0.0          0.0      0.0  \n",
       "1303     0.0          0.0      0.0  \n",
       "421      0.0          0.0      0.0  \n",
       "64       0.0          0.0      0.0  "
      ]
     },
     "metadata": {},
     "output_type": "display_data"
    }
   ],
   "source": [
    "# Дополним исходную таблицу столбцами жанров, где значением является 1 или 0\n",
    "genres = {}\n",
    "k = 0\n",
    "\n",
    "for i in data.genres:\n",
    "    old_str = i.split('|')\n",
    "    for j in old_str:\n",
    "        genres[j] = []\n",
    "\n",
    "genres_df = pd.DataFrame(genres)\n",
    "        \n",
    "for i in data.genres:\n",
    "    old_str = i.split('|')\n",
    "    for j in old_str:\n",
    "        genres_df.loc[k, j] = 1\n",
    "    k += 1\n",
    "\n",
    "genres_df = genres_df.fillna(0)\n",
    "data = data.drop(['genres'], axis=1)\n",
    "data = pd.concat([data, genres_df], axis=1)\n",
    "display(data.sample(5))\n",
    "display(genres_df.sample(5))"
   ]
  },
  {
   "cell_type": "markdown",
   "metadata": {
    "colab_type": "text",
    "id": "YxZaH-nPVp-L"
   },
   "source": [
    "# 1. У какого фильма из списка самый большой бюджет?"
   ]
  },
  {
   "cell_type": "markdown",
   "metadata": {
    "colab_type": "text",
    "id": "Nd-G5gX6Vp-M"
   },
   "source": [
    "Использовать варианты ответов в коде решения запрещено.    \n",
    "Вы думаете и в жизни у вас будут варианты ответов?)"
   ]
  },
  {
   "cell_type": "code",
   "execution_count": 7,
   "metadata": {
    "colab": {},
    "colab_type": "code",
    "id": "uVnXAY5RVp-O"
   },
   "outputs": [],
   "source": [
    "answers['1'] = 'Pirates of the Caribbean: On Stranger Tides (tt1298650)'\n",
    "# \"+\""
   ]
  },
  {
   "cell_type": "code",
   "execution_count": 8,
   "metadata": {
    "colab": {},
    "colab_type": "code",
    "id": "dZwb3m28Vp-S"
   },
   "outputs": [
    {
     "data": {
      "text/plain": [
       "723    Pirates of the Caribbean: On Stranger Tides\n",
       "Name: original_title, dtype: object"
      ]
     },
     "metadata": {},
     "output_type": "display_data"
    }
   ],
   "source": [
    "display(data[data.budget == data.budget.max()].original_title)"
   ]
  },
  {
   "cell_type": "markdown",
   "metadata": {
    "colab_type": "text",
    "id": "FNRbbI3vVp-c"
   },
   "source": [
    "# 2. Какой из фильмов самый длительный (в минутах)?"
   ]
  },
  {
   "cell_type": "code",
   "execution_count": 9,
   "metadata": {
    "colab": {},
    "colab_type": "code",
    "id": "vHAoEXNTVp-d"
   },
   "outputs": [],
   "source": [
    "answers['2'] = 'Gods and Generals (tt0279111)'\n",
    "# \"+\""
   ]
  },
  {
   "cell_type": "code",
   "execution_count": 10,
   "metadata": {
    "colab": {},
    "colab_type": "code",
    "id": "ot-VX2XrVp-g"
   },
   "outputs": [
    {
     "data": {
      "text/plain": [
       "1157    Gods and Generals\n",
       "Name: original_title, dtype: object"
      ]
     },
     "metadata": {},
     "output_type": "display_data"
    }
   ],
   "source": [
    "display(data[data.runtime == data.runtime.max()].original_title)"
   ]
  },
  {
   "cell_type": "markdown",
   "metadata": {
    "colab_type": "text",
    "id": "bapLlpW8Vp-k"
   },
   "source": [
    "# 3. Какой из фильмов самый короткий (в минутах)?"
   ]
  },
  {
   "cell_type": "code",
   "execution_count": 11,
   "metadata": {
    "colab": {},
    "colab_type": "code",
    "id": "YBxaSHuAVp-l"
   },
   "outputs": [],
   "source": [
    "answers['3'] = 'Winnie the Pooh (tt1449283)'\n",
    "# \"+\""
   ]
  },
  {
   "cell_type": "code",
   "execution_count": 12,
   "metadata": {
    "colab": {},
    "colab_type": "code",
    "id": "YBxaSHuAVp-l"
   },
   "outputs": [
    {
     "data": {
      "text/plain": [
       "768    Winnie the Pooh\n",
       "Name: original_title, dtype: object"
      ]
     },
     "metadata": {},
     "output_type": "display_data"
    }
   ],
   "source": [
    "display(data[data.runtime == data.runtime.min()].original_title)"
   ]
  },
  {
   "cell_type": "markdown",
   "metadata": {
    "colab_type": "text",
    "id": "TfQbxbfNVp-p"
   },
   "source": [
    "# 4. Какова средняя длительность фильмов?\n"
   ]
  },
  {
   "cell_type": "code",
   "execution_count": 13,
   "metadata": {
    "colab": {},
    "colab_type": "code",
    "id": "5K6dKZYVVp-q"
   },
   "outputs": [],
   "source": [
    "answers['4'] = '110'\n",
    "# \"+\""
   ]
  },
  {
   "cell_type": "code",
   "execution_count": 14,
   "metadata": {},
   "outputs": [
    {
     "data": {
      "text/plain": [
       "109.6585494970884"
      ]
     },
     "metadata": {},
     "output_type": "display_data"
    }
   ],
   "source": [
    "display(data.runtime.mean())"
   ]
  },
  {
   "cell_type": "markdown",
   "metadata": {
    "colab_type": "text",
    "id": "r5TvbnT_Vp-u"
   },
   "source": [
    "# 5. Каково медианное значение длительности фильмов? "
   ]
  },
  {
   "cell_type": "code",
   "execution_count": 15,
   "metadata": {},
   "outputs": [],
   "source": [
    "answers['5'] = '107'\n",
    "# \"+\""
   ]
  },
  {
   "cell_type": "code",
   "execution_count": 16,
   "metadata": {
    "colab": {},
    "colab_type": "code",
    "id": "iBROplKnVp-v"
   },
   "outputs": [
    {
     "data": {
      "text/plain": [
       "107.0"
      ]
     },
     "metadata": {},
     "output_type": "display_data"
    }
   ],
   "source": [
    "display(data.runtime.median())"
   ]
  },
  {
   "cell_type": "markdown",
   "metadata": {
    "colab_type": "text",
    "id": "39P-deDSVp-y"
   },
   "source": [
    "# 6. Какой самый прибыльный фильм?\n",
    "#### Внимание! Здесь и далее под «прибылью» или «убытками» понимается разность между сборами и бюджетом фильма. (прибыль = сборы - бюджет) в нашем датасете это будет (profit = revenue - budget) "
   ]
  },
  {
   "cell_type": "code",
   "execution_count": 17,
   "metadata": {
    "colab": {},
    "colab_type": "code",
    "id": "UYZh4T9WVp-y"
   },
   "outputs": [],
   "source": [
    "answers['6'] = 'Avatar (tt0499549)'\n",
    "# \"+\""
   ]
  },
  {
   "cell_type": "code",
   "execution_count": 18,
   "metadata": {},
   "outputs": [
    {
     "data": {
      "text/plain": [
       "239    Avatar\n",
       "Name: original_title, dtype: object"
      ]
     },
     "metadata": {},
     "output_type": "display_data"
    }
   ],
   "source": [
    "display(data[data.profit == data.profit.max()].original_title)"
   ]
  },
  {
   "cell_type": "markdown",
   "metadata": {
    "colab_type": "text",
    "id": "M99JmIX4Vp-2"
   },
   "source": [
    "# 7. Какой фильм самый убыточный? "
   ]
  },
  {
   "cell_type": "code",
   "execution_count": 19,
   "metadata": {
    "colab": {},
    "colab_type": "code",
    "id": "w-D2m4XPVp-3"
   },
   "outputs": [],
   "source": [
    "answers['7'] = 'The Lone Ranger (tt1210819)'\n",
    "# \"+\""
   ]
  },
  {
   "cell_type": "code",
   "execution_count": 20,
   "metadata": {},
   "outputs": [
    {
     "data": {
      "text/plain": [
       "1245    The Lone Ranger\n",
       "Name: original_title, dtype: object"
      ]
     },
     "metadata": {},
     "output_type": "display_data"
    }
   ],
   "source": [
    "display(data[data.profit == data.profit.min()].original_title)"
   ]
  },
  {
   "cell_type": "markdown",
   "metadata": {
    "colab_type": "text",
    "id": "wEOM5ERVVp-6"
   },
   "source": [
    "# 8. У скольких фильмов из датасета объем сборов оказался выше бюджета?"
   ]
  },
  {
   "cell_type": "code",
   "execution_count": 21,
   "metadata": {
    "colab": {},
    "colab_type": "code",
    "id": "y00_7HD6Vp-7"
   },
   "outputs": [],
   "source": [
    "answers['8'] = '1478'\n",
    "# \"+\""
   ]
  },
  {
   "cell_type": "code",
   "execution_count": 22,
   "metadata": {},
   "outputs": [
    {
     "data": {
      "text/plain": [
       "1478"
      ]
     },
     "metadata": {},
     "output_type": "display_data"
    }
   ],
   "source": [
    "display(len(data[data.revenue > data.budget]))"
   ]
  },
  {
   "cell_type": "markdown",
   "metadata": {
    "colab_type": "text",
    "id": "xhpspA9KVp_A"
   },
   "source": [
    "# 9. Какой фильм оказался самым кассовым в 2008 году?"
   ]
  },
  {
   "cell_type": "code",
   "execution_count": 23,
   "metadata": {
    "colab": {},
    "colab_type": "code",
    "id": "MoUyQr9RVp_B"
   },
   "outputs": [],
   "source": [
    "answers['9'] = 'The Dark Knight (tt0468569)'\n",
    "# \"+\""
   ]
  },
  {
   "cell_type": "code",
   "execution_count": 24,
   "metadata": {},
   "outputs": [
    {
     "data": {
      "text/plain": [
       "599    The Dark Knight\n",
       "Name: original_title, dtype: object"
      ]
     },
     "metadata": {},
     "output_type": "display_data"
    }
   ],
   "source": [
    "df = data[data.release_year == 2008]\n",
    "display(df[df.revenue == df.revenue.max()].original_title)"
   ]
  },
  {
   "cell_type": "markdown",
   "metadata": {
    "colab_type": "text",
    "id": "Zi4hDKidVp_F"
   },
   "source": [
    "# 10. Самый убыточный фильм за период с 2012 по 2014 г. (включительно)?\n"
   ]
  },
  {
   "cell_type": "code",
   "execution_count": 25,
   "metadata": {
    "colab": {},
    "colab_type": "code",
    "id": "XqyRmufJVp_F"
   },
   "outputs": [],
   "source": [
    "answers['10'] = 'The Lone Ranger (tt1210819)'\n",
    "# \"+\""
   ]
  },
  {
   "cell_type": "code",
   "execution_count": 26,
   "metadata": {},
   "outputs": [
    {
     "data": {
      "text/plain": [
       "1245    The Lone Ranger\n",
       "Name: original_title, dtype: object"
      ]
     },
     "metadata": {},
     "output_type": "display_data"
    }
   ],
   "source": [
    "df = data[(2012 <= data.release_year) & (data.release_year <= 2014)]\n",
    "display(df[df.profit == df.profit.min()].original_title)"
   ]
  },
  {
   "cell_type": "markdown",
   "metadata": {
    "colab_type": "text",
    "id": "EA7Sa9dkVp_I"
   },
   "source": [
    "# 11. Какого жанра фильмов больше всего?"
   ]
  },
  {
   "cell_type": "code",
   "execution_count": 27,
   "metadata": {
    "colab": {},
    "colab_type": "code",
    "id": "zsJAwJ8QVp_J"
   },
   "outputs": [],
   "source": [
    "answers['11'] = 'Drama'\n",
    "# \"+\""
   ]
  },
  {
   "cell_type": "code",
   "execution_count": 28,
   "metadata": {},
   "outputs": [
    {
     "data": {
      "text/plain": [
       "Action             False\n",
       "Adventure          False\n",
       "Science Fiction    False\n",
       "Thriller           False\n",
       "Fantasy            False\n",
       "Crime              False\n",
       "Western            False\n",
       "Drama               True\n",
       "Family             False\n",
       "Animation          False\n",
       "Comedy             False\n",
       "Mystery            False\n",
       "Romance            False\n",
       "War                False\n",
       "History            False\n",
       "Music              False\n",
       "Horror             False\n",
       "Documentary        False\n",
       "Foreign            False\n",
       "dtype: bool"
      ]
     },
     "metadata": {},
     "output_type": "display_data"
    }
   ],
   "source": [
    "display(genres_df.sum() == genres_df.sum().max())"
   ]
  },
  {
   "cell_type": "markdown",
   "metadata": {
    "colab_type": "text",
    "id": "T9_bPWpkVp_Q"
   },
   "source": [
    "# 12. Фильмы какого жанра чаще всего становятся прибыльными? "
   ]
  },
  {
   "cell_type": "code",
   "execution_count": 29,
   "metadata": {
    "colab": {},
    "colab_type": "code",
    "id": "Tmt8MaK1Vp_R"
   },
   "outputs": [],
   "source": [
    "answers['12'] = 'Drama'\n",
    "# \"+\""
   ]
  },
  {
   "cell_type": "code",
   "execution_count": 30,
   "metadata": {},
   "outputs": [
    {
     "data": {
      "text/plain": [
       "Action             False\n",
       "Adventure          False\n",
       "Science Fiction    False\n",
       "Thriller           False\n",
       "Fantasy            False\n",
       "Crime              False\n",
       "Western            False\n",
       "Drama               True\n",
       "Family             False\n",
       "Animation          False\n",
       "Comedy             False\n",
       "Mystery            False\n",
       "Romance            False\n",
       "War                False\n",
       "History            False\n",
       "Music              False\n",
       "Horror             False\n",
       "Documentary        False\n",
       "Foreign            False\n",
       "dtype: bool"
      ]
     },
     "metadata": {},
     "output_type": "display_data"
    }
   ],
   "source": [
    "g_df1 = pd.concat([data.profit, genres_df], axis=1)\n",
    "g_df1 = g_df1.fillna(0)\n",
    "g_df1 = g_df1[g_df1 > 0]\n",
    "g_df1 = g_df1.drop(['profit'], axis=1)\n",
    "g_df1 = g_df1.fillna(0)\n",
    "display(g_df1.sum() == g_df1.sum().max())"
   ]
  },
  {
   "cell_type": "markdown",
   "metadata": {
    "colab_type": "text",
    "id": "0F23bgsDVp_U"
   },
   "source": [
    "# 13. У какого режиссера самые большие суммарные кассовые сбооры?"
   ]
  },
  {
   "cell_type": "code",
   "execution_count": 31,
   "metadata": {
    "colab": {},
    "colab_type": "code",
    "id": "K6Z3J8ygVp_X"
   },
   "outputs": [],
   "source": [
    "answers['13'] = 'Peter Jackson'\n",
    "# \"+\""
   ]
  },
  {
   "cell_type": "code",
   "execution_count": 32,
   "metadata": {},
   "outputs": [
    {
     "data": {
      "text/plain": [
       "director\n",
       "Peter Jackson    6490593685\n",
       "Name: revenue, dtype: int64"
      ]
     },
     "metadata": {},
     "output_type": "display_data"
    }
   ],
   "source": [
    "df = data.groupby(['director'])['revenue'].sum()\n",
    "display(df[df == df.max()])"
   ]
  },
  {
   "cell_type": "markdown",
   "metadata": {
    "colab_type": "text",
    "id": "PsYC9FgRVp_a"
   },
   "source": [
    "# 14. Какой режисер снял больше всего фильмов в стиле Action?"
   ]
  },
  {
   "cell_type": "code",
   "execution_count": 63,
   "metadata": {
    "colab": {},
    "colab_type": "code",
    "id": "wd2M-wHeVp_b"
   },
   "outputs": [],
   "source": [
    "answers['14'] = 'Robert Rodriguez'\n",
    "# \"+\""
   ]
  },
  {
   "cell_type": "code",
   "execution_count": 34,
   "metadata": {},
   "outputs": [
    {
     "data": {
      "text/plain": [
       "'Robert Rodriguez'"
      ]
     },
     "metadata": {},
     "output_type": "display_data"
    }
   ],
   "source": [
    "directors = {}\n",
    "\n",
    "for i in range(len(data)):\n",
    "    for j in data.loc[i].director.split('|'):\n",
    "        if data.loc[i].Action == 1:\n",
    "            directors[j] = 0\n",
    "\n",
    "for i in range(len(data)):\n",
    "    for j in data.loc[i].director.split('|'):\n",
    "        if data.loc[i].Action == 1:\n",
    "            directors[j] += 1\n",
    "\n",
    "for key, value in directors.items():\n",
    "    if value == max(directors.values()):\n",
    "        display(key)\n",
    "    "
   ]
  },
  {
   "cell_type": "markdown",
   "metadata": {
    "colab_type": "text",
    "id": "PQ0KciD7Vp_f"
   },
   "source": [
    "# 15. Фильмы с каким актером принесли самые высокие кассовые сборы в 2012 году? "
   ]
  },
  {
   "cell_type": "code",
   "execution_count": 35,
   "metadata": {
    "colab": {},
    "colab_type": "code",
    "id": "aga62oeKVp_g"
   },
   "outputs": [],
   "source": [
    "answers['15'] = 'Chris Hemsworth'\n",
    "# \"+\""
   ]
  },
  {
   "cell_type": "code",
   "execution_count": 67,
   "metadata": {},
   "outputs": [
    {
     "data": {
      "text/plain": [
       "'Chris Hemsworth'"
      ]
     },
     "metadata": {},
     "output_type": "display_data"
    }
   ],
   "source": [
    "actors = {}\n",
    "for i in data.cast:\n",
    "    for j in i.split('|'):\n",
    "        actors.setdefault(j, 0)\n",
    "        \n",
    "df = data[data.release_year == 2012]\n",
    "for i in list(df.index):\n",
    "    for j in df.loc[i].cast.split('|'):\n",
    "        actors[j] += df.loc[i].revenue\n",
    "\n",
    "for key, value in actors.items():\n",
    "    if value == max(actors.values()):\n",
    "        display(key)"
   ]
  },
  {
   "cell_type": "markdown",
   "metadata": {
    "colab_type": "text",
    "id": "mWHyyL7QVp_j"
   },
   "source": [
    "# 16. Какой актер снялся в большем количестве высокобюджетных фильмов?"
   ]
  },
  {
   "cell_type": "code",
   "execution_count": 37,
   "metadata": {
    "colab": {},
    "colab_type": "code",
    "id": "qQtmHKTFVp_k"
   },
   "outputs": [],
   "source": [
    "answers['16'] = 'Matt Damon'\n",
    "# \"+\""
   ]
  },
  {
   "cell_type": "code",
   "execution_count": 38,
   "metadata": {},
   "outputs": [
    {
     "data": {
      "text/plain": [
       "'Matt Damon'"
      ]
     },
     "metadata": {},
     "output_type": "display_data"
    }
   ],
   "source": [
    "df = data[data.budget > 50000000]\n",
    "\n",
    "actors = {}\n",
    "for i in df.cast:\n",
    "    for j in i.split('|') :\n",
    "        actors.setdefault(j, 0)\n",
    "\n",
    "for i in list(df.index):\n",
    "    for j in df.loc[i].cast.split('|'):\n",
    "        actors[j] += 1\n",
    "\n",
    "for key, value in actors.items():\n",
    "    if value == max(actors.values()):\n",
    "        display(key)"
   ]
  },
  {
   "cell_type": "markdown",
   "metadata": {
    "colab_type": "text",
    "id": "NIh6AaW5Vp_n"
   },
   "source": [
    "# 17. В фильмах какого жанра больше всего снимался Nicolas Cage? "
   ]
  },
  {
   "cell_type": "code",
   "execution_count": 39,
   "metadata": {
    "colab": {},
    "colab_type": "code",
    "id": "H74SJDIBVp_n"
   },
   "outputs": [],
   "source": [
    "answers['17'] = 'Action'\n",
    "# \"+\""
   ]
  },
  {
   "cell_type": "code",
   "execution_count": 40,
   "metadata": {},
   "outputs": [
    {
     "data": {
      "text/plain": [
       "'Action'"
      ]
     },
     "metadata": {},
     "output_type": "display_data"
    }
   ],
   "source": [
    "for i in genres:\n",
    "    genres[i] = 0\n",
    "\n",
    "for i in range(len(data)):\n",
    "    for j in data.loc[i].cast.split('|'):\n",
    "        if j == 'Nicolas Cage':\n",
    "            for k in list(genres_df[genres_df.index == i].columns):\n",
    "                if genres_df[genres_df.index == i][k].values[0] == 1:\n",
    "                    genres[k] += 1\n",
    "\n",
    "for key, value in genres.items():\n",
    "    if value == max(genres.values()):\n",
    "        display(key)"
   ]
  },
  {
   "cell_type": "markdown",
   "metadata": {
    "colab_type": "text",
    "id": "RqOmPRfWVp_q"
   },
   "source": [
    "# 18. Самый убыточный фильм от Paramount Pictures"
   ]
  },
  {
   "cell_type": "code",
   "execution_count": 41,
   "metadata": {
    "colab": {},
    "colab_type": "code",
    "id": "9E_B0Y96Vp_r"
   },
   "outputs": [],
   "source": [
    "answers['18'] = 'K-19: The Widowmaker (tt0267626)'\n",
    "# \"+\""
   ]
  },
  {
   "cell_type": "code",
   "execution_count": 42,
   "metadata": {},
   "outputs": [
    {
     "data": {
      "text/plain": [
       "54    K-19: The Widowmaker\n",
       "Name: original_title, dtype: object"
      ]
     },
     "metadata": {},
     "output_type": "display_data"
    }
   ],
   "source": [
    "df = pd.DataFrame()\n",
    "for i in range(len(data)):\n",
    "    for j in data.loc[i].production_companies.split('|'):\n",
    "        if j == 'Paramount Pictures':\n",
    "            df = df.append(data[data.index == i], ignore_index=True)\n",
    "display(df[df.profit == df.profit.min()].original_title)"
   ]
  },
  {
   "cell_type": "markdown",
   "metadata": {
    "colab_type": "text",
    "id": "vS8Ur6ddVp_u"
   },
   "source": [
    "# 19. Какой год стал самым успешным по суммарным кассовым сборам?"
   ]
  },
  {
   "cell_type": "code",
   "execution_count": 43,
   "metadata": {
    "colab": {},
    "colab_type": "code",
    "id": "Dnbt4GdIVp_v"
   },
   "outputs": [],
   "source": [
    "answers['19'] = '2015'\n",
    "# \"+\""
   ]
  },
  {
   "cell_type": "code",
   "execution_count": 44,
   "metadata": {},
   "outputs": [
    {
     "data": {
      "text/plain": [
       "release_year\n",
       "2015    25449202382\n",
       "Name: revenue, dtype: int64"
      ]
     },
     "metadata": {},
     "output_type": "display_data"
    }
   ],
   "source": [
    "df = data.groupby(['release_year'])['revenue'].sum()\n",
    "display(df[df == df.max()])"
   ]
  },
  {
   "cell_type": "markdown",
   "metadata": {
    "colab_type": "text",
    "id": "JAzJh4QAVp_z"
   },
   "source": [
    "# 20. Какой самый прибыльный год для студии Warner Bros?"
   ]
  },
  {
   "cell_type": "code",
   "execution_count": 45,
   "metadata": {
    "colab": {},
    "colab_type": "code",
    "id": "wgVu02DEVp_0"
   },
   "outputs": [],
   "source": [
    "answers['20'] = '2014'\n",
    "# \"+\""
   ]
  },
  {
   "cell_type": "code",
   "execution_count": 46,
   "metadata": {},
   "outputs": [
    {
     "data": {
      "text/plain": [
       "release_year\n",
       "2014    3246549646\n",
       "Name: revenue, dtype: int64"
      ]
     },
     "metadata": {},
     "output_type": "display_data"
    }
   ],
   "source": [
    "df = pd.DataFrame()\n",
    "for i in range(len(data)):\n",
    "    for j in data.loc[i].production_companies.split('|'):\n",
    "        if 'Warner Bros' in j:\n",
    "            df = df.append(data[data.index == i], ignore_index=True)\n",
    "\n",
    "df1 = df.groupby(['release_year'])['revenue'].sum()\n",
    "display(df1[df1 == df1.max()])"
   ]
  },
  {
   "cell_type": "markdown",
   "metadata": {
    "colab_type": "text",
    "id": "8Im1S2HRVp_4"
   },
   "source": [
    "# 21. В каком месяце за все годы суммарно вышло больше всего фильмов?"
   ]
  },
  {
   "cell_type": "code",
   "execution_count": 47,
   "metadata": {
    "colab": {},
    "colab_type": "code",
    "id": "lev6TH7gVp_4"
   },
   "outputs": [],
   "source": [
    "answers['21'] = 'Сентябрь'\n",
    "# \"+\""
   ]
  },
  {
   "cell_type": "code",
   "execution_count": 48,
   "metadata": {},
   "outputs": [
    {
     "data": {
      "text/plain": [
       "'9'"
      ]
     },
     "metadata": {},
     "output_type": "display_data"
    }
   ],
   "source": [
    "months = {str(i): 0 for i in range(1, 13)}\n",
    "for i in range(len(data)):\n",
    "    months[str(data.release_date.loc[i][1])] += 1\n",
    "display(max(months))"
   ]
  },
  {
   "cell_type": "markdown",
   "metadata": {
    "colab_type": "text",
    "id": "uAJsZ_NeVp_7"
   },
   "source": [
    "# 22. Сколько суммарно вышло фильмов летом? (за июнь, июль, август)"
   ]
  },
  {
   "cell_type": "code",
   "execution_count": 49,
   "metadata": {
    "colab": {},
    "colab_type": "code",
    "id": "Aa-hEREoVp_8"
   },
   "outputs": [],
   "source": [
    "answers['22'] = '450'\n",
    "# \"+\""
   ]
  },
  {
   "cell_type": "code",
   "execution_count": 50,
   "metadata": {},
   "outputs": [
    {
     "data": {
      "text/plain": [
       "450"
      ]
     },
     "metadata": {},
     "output_type": "display_data"
    }
   ],
   "source": [
    "months = {str(i): 0 for i in range(1, 13)}\n",
    "for i in range(len(data)):\n",
    "    months[str(data.release_date.loc[i][1])] += 1\n",
    "display(months['6'] + months['7'] + months['8'])"
   ]
  },
  {
   "cell_type": "markdown",
   "metadata": {
    "colab_type": "text",
    "id": "G94ppOY1VqAA"
   },
   "source": [
    "# 23. Для какого режиссера зима – самое продуктивное время года? "
   ]
  },
  {
   "cell_type": "code",
   "execution_count": 51,
   "metadata": {
    "colab": {},
    "colab_type": "code",
    "id": "RhNTsamuVqAB"
   },
   "outputs": [],
   "source": [
    "answers['23'] = 'Peter Jackson'\n",
    "# \"+\""
   ]
  },
  {
   "cell_type": "code",
   "execution_count": 52,
   "metadata": {},
   "outputs": [
    {
     "data": {
      "text/plain": [
       "'Peter Jackson'"
      ]
     },
     "metadata": {},
     "output_type": "display_data"
    }
   ],
   "source": [
    "directors = {}\n",
    "\n",
    "for i in range(len(data)):\n",
    "    for j in data.loc[i].director.split('|'):\n",
    "        directors[j] = 0\n",
    "\n",
    "for i in range(len(data)):\n",
    "    for j in data.loc[i].director.split('|'):\n",
    "        if data.release_date.loc[i][1] == 12 or data.release_date.loc[i][1] == 1 or data.release_date.loc[i][1] == 2:\n",
    "            directors[j] += 1\n",
    "\n",
    "for key, value in directors.items():\n",
    "    if value == max(directors.values()):\n",
    "        display(key)"
   ]
  },
  {
   "cell_type": "markdown",
   "metadata": {
    "colab_type": "text",
    "id": "RBo0JVjVVqAF"
   },
   "source": [
    "# 24. Какая студия дает самые длинные названия своим фильмам по количеству символов?"
   ]
  },
  {
   "cell_type": "code",
   "execution_count": 64,
   "metadata": {
    "colab": {},
    "colab_type": "code",
    "id": "QRGS8L0iVqAG"
   },
   "outputs": [],
   "source": [
    "answers['24'] = 'Four By Two Productions'\n",
    "# \"+\""
   ]
  },
  {
   "cell_type": "code",
   "execution_count": 54,
   "metadata": {},
   "outputs": [
    {
     "data": {
      "text/plain": [
       "'Twentieth Century Fox Film Corporation'"
      ]
     },
     "metadata": {},
     "output_type": "display_data"
    },
    {
     "data": {
      "text/plain": [
       "'Four By Two Productions'"
      ]
     },
     "metadata": {},
     "output_type": "display_data"
    }
   ],
   "source": [
    "names = {}\n",
    "\n",
    "for i in range(len(data)):\n",
    "    for j in data.loc[i].production_companies.split('|'):\n",
    "        names[j] = 0\n",
    "\n",
    "for i in range(len(data)):\n",
    "    for j in data.loc[i].production_companies.split('|'):\n",
    "        if len(data.loc[i].original_title) > names[j]:\n",
    "            names[j] = len(data.loc[i].original_title)\n",
    "\n",
    "for key, value in names.items():\n",
    "    if value == max(names.values()):\n",
    "        display(key)"
   ]
  },
  {
   "cell_type": "markdown",
   "metadata": {
    "colab_type": "text",
    "id": "9G0hbvR7VqAK"
   },
   "source": [
    "# 25. Описание фильмов какой студии в среднем самые длинные по количеству слов?"
   ]
  },
  {
   "cell_type": "code",
   "execution_count": 55,
   "metadata": {
    "colab": {},
    "colab_type": "code",
    "id": "Ge2GsLNxVqAK"
   },
   "outputs": [],
   "source": [
    "answers['25'] = 'Midnight Picture Show'\n",
    "# \"+\""
   ]
  },
  {
   "cell_type": "code",
   "execution_count": 56,
   "metadata": {},
   "outputs": [
    {
     "data": {
      "text/plain": [
       "'Midnight Picture Show'"
      ]
     },
     "metadata": {},
     "output_type": "display_data"
    }
   ],
   "source": [
    "names = {}\n",
    "\n",
    "for i in range(len(data)):\n",
    "    for j in data.loc[i].production_companies.split('|'):\n",
    "        names[j] = [0]*2\n",
    "\n",
    "for i in range(len(data)):\n",
    "    for j in data.loc[i].production_companies.split('|'):\n",
    "        names[j][0] += len(data.loc[i].overview)\n",
    "        names[j][1] += 1\n",
    "\n",
    "for i in names:\n",
    "    names[i] = names[i][0] / names[i][1]\n",
    "\n",
    "for key, value in names.items():\n",
    "    if value == max(names.values()):\n",
    "        display(key)"
   ]
  },
  {
   "cell_type": "markdown",
   "metadata": {
    "colab_type": "text",
    "id": "FJ1AFt90VqAP"
   },
   "source": [
    "# 26. Какие фильмы входят в 1 процент лучших по рейтингу?"
   ]
  },
  {
   "cell_type": "code",
   "execution_count": 57,
   "metadata": {
    "colab": {},
    "colab_type": "code",
    "id": "8qmJVq4CVqAQ"
   },
   "outputs": [],
   "source": [
    "answers['26'] = 'Inside Out, The Dark Knight, 12 Years a Slave'\n",
    "# \"+\""
   ]
  },
  {
   "cell_type": "code",
   "execution_count": 58,
   "metadata": {},
   "outputs": [
    {
     "data": {
      "text/plain": [
       "The Dark Knight                                  8.1\n",
       "Interstellar                                     8.0\n",
       "The Imitation Game                               8.0\n",
       "Inside Out                                       8.0\n",
       "Room                                             8.0\n",
       "The Wolf of Wall Street                          7.9\n",
       "Gone Girl                                        7.9\n",
       "12 Years a Slave                                 7.9\n",
       "Guardians of the Galaxy                          7.9\n",
       "The Lord of the Rings: The Return of the King    7.9\n",
       "Memento                                          7.9\n",
       "Inception                                        7.9\n",
       "The Pianist                                      7.9\n",
       "The Grand Budapest Hotel                         7.9\n",
       "Her                                              7.8\n",
       "Spotlight                                        7.8\n",
       "Big Hero 6                                       7.8\n",
       "The Fault in Our Stars                           7.8\n",
       "Name: vote_average, dtype: float64"
      ]
     },
     "metadata": {},
     "output_type": "display_data"
    }
   ],
   "source": [
    "df = data[['original_title', 'vote_average']].sort_values(['vote_average'], ascending=False)\n",
    "df.index = list(df.original_title)\n",
    "df = df['vote_average']\n",
    "display(df.head(len(df)//100))"
   ]
  },
  {
   "cell_type": "markdown",
   "metadata": {
    "colab_type": "text",
    "id": "MdXsUXbCVqAV"
   },
   "source": [
    "# 27. Какие актеры чаще всего снимаются в одном фильме вместе?\n"
   ]
  },
  {
   "cell_type": "code",
   "execution_count": 59,
   "metadata": {},
   "outputs": [],
   "source": [
    "answers['27'] = 'Daniel Radcliffe & Rupert Grint'\n",
    "# \"+\""
   ]
  },
  {
   "cell_type": "code",
   "execution_count": 60,
   "metadata": {},
   "outputs": [
    {
     "data": {
      "text/html": [
       "<div>\n",
       "<style scoped>\n",
       "    .dataframe tbody tr th:only-of-type {\n",
       "        vertical-align: middle;\n",
       "    }\n",
       "\n",
       "    .dataframe tbody tr th {\n",
       "        vertical-align: top;\n",
       "    }\n",
       "\n",
       "    .dataframe thead th {\n",
       "        text-align: right;\n",
       "    }\n",
       "</style>\n",
       "<table border=\"1\" class=\"dataframe\">\n",
       "  <thead>\n",
       "    <tr style=\"text-align: right;\">\n",
       "      <th></th>\n",
       "      <th>Daniel Radcliffe</th>\n",
       "      <th>Emma Watson</th>\n",
       "      <th>Rupert Grint</th>\n",
       "    </tr>\n",
       "  </thead>\n",
       "  <tbody>\n",
       "    <tr>\n",
       "      <th>Daniel Radcliffe</th>\n",
       "      <td>0</td>\n",
       "      <td>16</td>\n",
       "      <td>16</td>\n",
       "    </tr>\n",
       "    <tr>\n",
       "      <th>Emma Watson</th>\n",
       "      <td>16</td>\n",
       "      <td>0</td>\n",
       "      <td>16</td>\n",
       "    </tr>\n",
       "    <tr>\n",
       "      <th>Rupert Grint</th>\n",
       "      <td>16</td>\n",
       "      <td>16</td>\n",
       "      <td>0</td>\n",
       "    </tr>\n",
       "  </tbody>\n",
       "</table>\n",
       "</div>"
      ],
      "text/plain": [
       "                  Daniel Radcliffe  Emma Watson  Rupert Grint\n",
       "Daniel Radcliffe                 0           16            16\n",
       "Emma Watson                     16            0            16\n",
       "Rupert Grint                    16           16             0"
      ]
     },
     "metadata": {},
     "output_type": "display_data"
    }
   ],
   "source": [
    "actors = {}\n",
    "\n",
    "for i in data.cast:\n",
    "    for j in i.split('|'):\n",
    "        actors.setdefault(j, 0)\n",
    "        \n",
    "actors = pd.DataFrame(actors, index=list(actors.keys()))\n",
    "\n",
    "for i in range(len(data)):\n",
    "    for j in data.loc[i].cast.split('|'):\n",
    "        for k in data.loc[i].cast.split('|'):\n",
    "            if j != k:\n",
    "                actors.loc[j].loc[k] += 1\n",
    "                actors.loc[k].loc[j] += 1\n",
    "                \n",
    "display(actors[actors.max() == actors.max().max()][actors[actors.max() == actors.max().max()].index])"
   ]
  },
  {
   "cell_type": "markdown",
   "metadata": {
    "colab_type": "text",
    "id": "U0nONFnGVqAX"
   },
   "source": [
    "# Submission"
   ]
  },
  {
   "cell_type": "code",
   "execution_count": 65,
   "metadata": {
    "colab": {},
    "colab_type": "code",
    "id": "IfcaRO9-VqAX",
    "outputId": "0f132912-32bb-4196-c98c-abfbc4ad5a5f"
   },
   "outputs": [
    {
     "data": {
      "text/plain": [
       "{'1': 'Pirates of the Caribbean: On Stranger Tides (tt1298650)',\n",
       " '2': 'Gods and Generals (tt0279111)',\n",
       " '3': 'Winnie the Pooh (tt1449283)',\n",
       " '4': '110',\n",
       " '5': '107',\n",
       " '6': 'Avatar (tt0499549)',\n",
       " '7': 'The Lone Ranger (tt1210819)',\n",
       " '8': '1478',\n",
       " '9': 'The Dark Knight (tt0468569)',\n",
       " '10': 'The Lone Ranger (tt1210819)',\n",
       " '11': 'Drama',\n",
       " '12': 'Drama',\n",
       " '13': 'Peter Jackson',\n",
       " '14': 'Robert Rodriguez',\n",
       " '15': 'Chris Hemsworth',\n",
       " '16': 'Matt Damon',\n",
       " '17': 'Action',\n",
       " '18': 'K-19: The Widowmaker (tt0267626)',\n",
       " '19': '2015',\n",
       " '20': '2014',\n",
       " '21': 'Сентябрь',\n",
       " '22': '450',\n",
       " '23': 'Peter Jackson',\n",
       " '24': 'Four By Two Productions',\n",
       " '25': 'Midnight Picture Show',\n",
       " '26': 'Inside Out, The Dark Knight, 12 Years a Slave',\n",
       " '27': 'Daniel Radcliffe & Rupert Grint'}"
      ]
     },
     "metadata": {},
     "output_type": "display_data"
    }
   ],
   "source": [
    "display(answers)"
   ]
  },
  {
   "cell_type": "code",
   "execution_count": 66,
   "metadata": {
    "colab": {},
    "colab_type": "code",
    "id": "SiRmHPl8VqAd"
   },
   "outputs": [
    {
     "data": {
      "text/plain": [
       "27"
      ]
     },
     "metadata": {},
     "output_type": "display_data"
    }
   ],
   "source": [
    "display(len(answers))"
   ]
  },
  {
   "cell_type": "code",
   "execution_count": null,
   "metadata": {},
   "outputs": [],
   "source": []
  }
 ],
 "metadata": {
  "colab": {
   "name": "Copy of [SF-DST] Movies IMBD v4.1 TEMPLATE.ipynb",
   "provenance": []
  },
  "kernelspec": {
   "display_name": "Python 3",
   "language": "python",
   "name": "python3"
  },
  "language_info": {
   "codemirror_mode": {
    "name": "ipython",
    "version": 3
   },
   "file_extension": ".py",
   "mimetype": "text/x-python",
   "name": "python",
   "nbconvert_exporter": "python",
   "pygments_lexer": "ipython3",
   "version": "3.7.6"
  }
 },
 "nbformat": 4,
 "nbformat_minor": 1
}
